{
 "cells": [
  {
   "cell_type": "code",
   "execution_count": 1,
   "metadata": {
    "slideshow": {
     "slide_type": "skip"
    }
   },
   "outputs": [],
   "source": [
    "import matplotlib.pyplot as plt\n",
    "import matplotlib.image as img\n",
    "import pylab as py\n",
    "from IPython.display import Latex\n",
    "#novos pacotes de imagem\n",
    "import imageio\n",
    "from skimage import data, io, filters\n",
    "from skimage import img_as_float\n",
    "from skimage.transform import radon, rescale\n",
    "from skimage.morphology import reconstruction\n",
    "\n",
    "% matplotlib inline"
   ]
  },
  {
   "cell_type": "markdown",
   "metadata": {
    "slideshow": {
     "slide_type": "slide"
    }
   },
   "source": [
    "# Potencial Espontâneo\n"
   ]
  },
  {
   "cell_type": "markdown",
   "metadata": {
    "slideshow": {
     "slide_type": "subslide"
    }
   },
   "source": [
    "O potencial espontâneo é considerado de importância prática para identificação de zonas permeáveis\n"
   ]
  },
  {
   "cell_type": "markdown",
   "metadata": {},
   "source": [
    "A base do potencial espontâneo é o fenômeno da difusão. Isso é originado pela selação de cátions em folhelhos. "
   ]
  },
  {
   "cell_type": "markdown",
   "metadata": {},
   "source": [
    "A base para o fenômeno da difusão em poços baseia-se na no potencial eletroquímico e na seletividade catiônica dos folhelhos. Tais potenciais eletroquímicos são o potencial de junção líquida e o potencial de membrana. "
   ]
  }
 ],
 "metadata": {
  "celltoolbar": "Slideshow",
  "kernelspec": {
   "display_name": "Python 2",
   "language": "python",
   "name": "python2"
  },
  "language_info": {
   "codemirror_mode": {
    "name": "ipython",
    "version": 2
   },
   "file_extension": ".py",
   "mimetype": "text/x-python",
   "name": "python",
   "nbconvert_exporter": "python",
   "pygments_lexer": "ipython2",
   "version": "2.7.15"
  }
 },
 "nbformat": 4,
 "nbformat_minor": 2
}
