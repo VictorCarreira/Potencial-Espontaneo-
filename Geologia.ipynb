{
 "cells": [
  {
   "cell_type": "code",
   "execution_count": 1,
   "metadata": {
    "slideshow": {
     "slide_type": "skip"
    }
   },
   "outputs": [],
   "source": [
    "import matplotlib.pyplot as plt\n",
    "import matplotlib.image as img\n",
    "import pylab as py\n",
    "#novos pacotes de imagem\n",
    "import imageio\n",
    "from skimage import data, io, filters\n",
    "from skimage import img_as_float\n",
    "from skimage.transform import radon, rescale\n",
    "from skimage.morphology import reconstruction\n",
    "\n",
    "% matplotlib inline"
   ]
  },
  {
   "cell_type": "markdown",
   "metadata": {
    "slideshow": {
     "slide_type": "slide"
    }
   },
   "source": [
    "# Propriedades elétricas das rochas e das salmouras"
   ]
  },
  {
   "cell_type": "markdown",
   "metadata": {
    "slideshow": {
     "slide_type": "subslide"
    }
   },
   "source": [
    "Em geral existem dois tipos de condução. A codução eletrolítica e a eletrônica. "
   ]
  },
  {
   "cell_type": "markdown",
   "metadata": {
    "slideshow": {
     "slide_type": "subslide"
    }
   },
   "source": [
    "Na condução eletrolítica o mecanismo é dependente da presença de sais dissolvidos em um solvente, como a água. "
   ]
  },
  {
   "cell_type": "markdown",
   "metadata": {
    "slideshow": {
     "slide_type": "subslide"
    }
   },
   "source": [
    "Na condução eletrônica, não existe a presença de um solvente. Os elétrons movem-se através do meio gasoso ou sólido, como é o caso dos metais e das rochas.   "
   ]
  },
  {
   "cell_type": "markdown",
   "metadata": {
    "slideshow": {
     "slide_type": "subslide"
    }
   },
   "source": [
    "\n",
    "| Material          | Resistividade (Ohm-m)           |\n",
    "|-------------------|---------------------------------|\n",
    "|    Mármore        |    $5 \\times 10^{7}$-$10^{9}$   |                                                                                       \n",
    "|    Quartzo        |    $10^{12}$ - $3 \\times 10^{4}$|                                                                                       \n",
    "|    Petróleo       |    $2 \\times 10^{14}$           |                                                                                       \n",
    "| Água destilada    |    $2 \\times 10^{14}$           |                                                                                       \n",
    "|Água salina (15°C):|                                 |            \n",
    "|      2ppm        |         $3.4$                   |\n",
    "|       10          |         $0.72$                  |                                                                                       \n",
    "|       20          |         $0.38$                  |                                                                                        \n",
    "|       100         |         $0.09$                  |\n",
    "|       200         |         $0.06$                  |\n",
    "| Formações típicas:|                                 |\n",
    "| Argila/folhelho   |        $2$-$10$                 |\n",
    "| Água salina/areia |        $0.5$-$10$               |\n",
    "| Areia oleífera    |        $5$-$10^{3}$             |\n",
    "| Calcário fino     |         $10^{3}$                |\n"
   ]
  },
  {
   "cell_type": "markdown",
   "metadata": {
    "slideshow": {
     "slide_type": "subslide"
    }
   },
   "source": [
    "A variação de resistividade depende da concentração de sais dissolvidos nos poros das rochas. "
   ]
  },
  {
   "cell_type": "markdown",
   "metadata": {
    "slideshow": {
     "slide_type": "subslide"
    }
   },
   "source": [
    "Por esta razão os reservatórios de petróleo contem uma condutividade mensurável."
   ]
  },
  {
   "cell_type": "markdown",
   "metadata": {
    "slideshow": {
     "slide_type": "subslide"
    }
   },
   "source": [
    "A condutividade dos argilominerais aumenta muito na presença de um eletrólito. "
   ]
  },
  {
   "cell_type": "markdown",
   "metadata": {
    "slideshow": {
     "slide_type": "subslide"
    }
   },
   "source": [
    "Em muitos casos a resistividade de uma rocha pode resultar da presença de aluminatos, grafitas, sulfidos, sulfatos. "
   ]
  },
  {
   "cell_type": "markdown",
   "metadata": {
    "slideshow": {
     "slide_type": "subslide"
    }
   },
   "source": [
    "No que tange as rochas sedimentares, a condutividade é primariamente de origem eletrolítica. E os eletrólitos se movem através de condições providas por água contaminada por hidrocarbonetos dentro dos poros da rocha formanda uma única e contínua fase. "
   ]
  },
  {
   "cell_type": "markdown",
   "metadata": {
    "slideshow": {
     "slide_type": "subslide"
    }
   },
   "source": [
    "A condutividade verdadeira depende da resistividade da água presente nos poros e da quantidade de água presente. Em uma escala menor ela dependerá da litologia, da matriz da rocha e conteúdo de argila e da sua textura. E dependerá fortemente da temperatura.  "
   ]
  },
  {
   "cell_type": "code",
   "execution_count": null,
   "metadata": {
    "slideshow": {
     "slide_type": "skip"
    }
   },
   "outputs": [],
   "source": []
  }
 ],
 "metadata": {
  "celltoolbar": "Slideshow",
  "kernelspec": {
   "display_name": "Python 2",
   "language": "python",
   "name": "python2"
  },
  "language_info": {
   "codemirror_mode": {
    "name": "ipython",
    "version": 2
   },
   "file_extension": ".py",
   "mimetype": "text/x-python",
   "name": "python",
   "nbconvert_exporter": "python",
   "pygments_lexer": "ipython2",
   "version": "2.7.15"
  }
 },
 "nbformat": 4,
 "nbformat_minor": 2
}
