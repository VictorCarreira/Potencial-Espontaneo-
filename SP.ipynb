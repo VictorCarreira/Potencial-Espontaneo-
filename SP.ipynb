{
 "cells": [
  {
   "cell_type": "markdown",
   "metadata": {},
   "source": [
    "# O pontencial espontâneo e os conceitos de resistividade"
   ]
  },
  {
   "cell_type": "markdown",
   "metadata": {},
   "source": [
    "As primeiras medidas realizadas em dados de perfilagem de poços foras medidas elétricas de fontes naturais. Em uma tentativa de aferir o valor de resistividade em formações rochosas repetidamente foi registrado \"ruído\" o que foi relacionado ao potencial espotâneo."
   ]
  },
  {
   "cell_type": "markdown",
   "metadata": {},
   "source": [
    "O pontencial espontâneo é o resultado da condução eletrolítica, característica intrínseca das rochas e das salmouras. \n",
    "Os fatores que impactam diretamente nesta condutividade eletroquímica são temperatura e salinidade.  "
   ]
  },
  {
   "cell_type": "markdown",
   "metadata": {},
   "source": [
    "## O conceito de resistividade massiva (Bulk resistivity) "
   ]
  },
  {
   "cell_type": "markdown",
   "metadata": {},
   "source": [
    "A resistividade é um propriedade física do matéria que é oposta a resistência e que está associada com a forma geométrica do material. A expressão prescrita pela lei de Ohm: "
   ]
  },
  {
   "cell_type": "markdown",
   "metadata": {},
   "source": [
    "$$V = I R$$"
   ]
  },
  {
   "cell_type": "markdown",
   "metadata": {},
   "source": [
    "indica que a corrente $I$ que flúi através de um material com resistência $R$ está associada a uma voltagem $V$. Uma perspectiva mais geral desta equação é dada pela relação presente na equação de Maxwell"
   ]
  },
  {
   "cell_type": "markdown",
   "metadata": {},
   "source": [
    "$$ \\vec{J} = \\sigma \\vec{E}$$"
   ]
  },
  {
   "cell_type": "markdown",
   "metadata": {},
   "source": [
    "onde $\\vec{J}$ é a densidade de corrente, um vetor quantidade; $\\vec{E}$ é o campo elétrico e $\\sigma$ é a constante de proporcionalidade que indica a condutividade do material. A resistividade, parâmetro físico usado para caracterização das rochas é definido como o inverso da condutividade:\n"
   ]
  },
  {
   "cell_type": "markdown",
   "metadata": {},
   "source": [
    "$$ Resistividade \\equiv \\rho = \\dfrac{1}{\\sigma} $$"
   ]
  },
  {
   "cell_type": "markdown",
   "metadata": {},
   "source": [
    "Uma importante exercício imaginativo para compreensão do conceito de resistividade é considerar um gás diluído presente entre duas placas com área $A$. As partículas do gás, aquelas dotadas de carga, movimentar-se-ão sobre a influência de um campo eletromagnético $E$ com uma taxa de velocidade de deslocamento, ou velocidade de deriva $v_{drift}$. A velocidade de deriva pode ser determinada pois á partícula portadora de carga é acelarada sob a inflência de um campo eletrico até que esta venha a colidir com outra partícula que está em repouso e o processo se repita novamente. O tempo entre essas colisões, $\\tau$, é o parâmetro de interesse, desde que a velocidade de deriva $v_{drift}$ pode ser descrita como:"
   ]
  },
  {
   "cell_type": "markdown",
   "metadata": {},
   "source": [
    "$$ v_{drift} = \\dfrac{F}{m} \\tau$$"
   ]
  },
  {
   "cell_type": "markdown",
   "metadata": {},
   "source": [
    "onde $\\dfrac{F}{m}$ representa a aceleração da partícula portadora de massa $m$ sujeita a uma força $F$. Neste exercício imaginativo a força $F$ é igual ao produto da carga pelo campo elétrico, $q E$."
   ]
  },
  {
   "cell_type": "code",
   "execution_count": null,
   "metadata": {},
   "outputs": [],
   "source": []
  }
 ],
 "metadata": {
  "kernelspec": {
   "display_name": "Python 2",
   "language": "python",
   "name": "python2"
  },
  "language_info": {
   "codemirror_mode": {
    "name": "ipython",
    "version": 2
   },
   "file_extension": ".py",
   "mimetype": "text/x-python",
   "name": "python",
   "nbconvert_exporter": "python",
   "pygments_lexer": "ipython2",
   "version": "2.7.14"
  }
 },
 "nbformat": 4,
 "nbformat_minor": 2
}
