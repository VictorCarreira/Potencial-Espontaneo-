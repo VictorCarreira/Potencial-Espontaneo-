{
 "cells": [
  {
   "cell_type": "code",
   "execution_count": 3,
   "metadata": {
    "slideshow": {
     "slide_type": "skip"
    }
   },
   "outputs": [],
   "source": [
    "% matplotlib inline"
   ]
  },
  {
   "cell_type": "markdown",
   "metadata": {
    "slideshow": {
     "slide_type": "slide"
    }
   },
   "source": [
    "# O pontencial espontâneo e os conceitos de resistividade"
   ]
  },
  {
   "cell_type": "markdown",
   "metadata": {
    "slideshow": {
     "slide_type": "subslide"
    }
   },
   "source": [
    "As primeiras medidas realizadas em dados de perfilagem de poços foras medidas elétricas de fontes naturais. Em uma tentativa de aferir o valor de resistividade em formações rochosas repetidamente foi registrado \"ruído\" o que foi relacionado ao potencial espotâneo."
   ]
  },
  {
   "cell_type": "markdown",
   "metadata": {
    "slideshow": {
     "slide_type": "subslide"
    }
   },
   "source": [
    "O pontencial espontâneo é o resultado da condução eletrolítica, característica intrínseca das rochas e das salmouras. \n",
    "Os fatores que impactam diretamente nesta condutividade eletroquímica são temperatura e salinidade.  "
   ]
  },
  {
   "cell_type": "markdown",
   "metadata": {
    "slideshow": {
     "slide_type": "slide"
    }
   },
   "source": [
    "## O conceito de resistividade massiva (Bulk resistivity) "
   ]
  },
  {
   "cell_type": "markdown",
   "metadata": {
    "slideshow": {
     "slide_type": "subslide"
    }
   },
   "source": [
    "A resistividade é um propriedade física do matéria que é oposta a resistência e que está associada com a forma geométrica do material. A expressão prescrita pela lei de Ohm: "
   ]
  },
  {
   "cell_type": "markdown",
   "metadata": {
    "slideshow": {
     "slide_type": "subslide"
    }
   },
   "source": [
    "\n",
    "$$ V = I R $$  (Eq. 1)\n"
   ]
  },
  {
   "cell_type": "markdown",
   "metadata": {
    "slideshow": {
     "slide_type": "fragment"
    }
   },
   "source": [
    "indica que a corrente $I$ que flúi através de um material com resistência $R$ está associada a uma voltagem $V$. Uma perspectiva mais geral desta equação é dada pela relação presente na equação de Maxwell"
   ]
  },
  {
   "cell_type": "markdown",
   "metadata": {
    "slideshow": {
     "slide_type": "subslide"
    }
   },
   "source": [
    "$$ \\vec{J} = \\sigma \\vec{E}$$\n",
    "(Eq. 2)"
   ]
  },
  {
   "cell_type": "markdown",
   "metadata": {
    "slideshow": {
     "slide_type": "fragment"
    }
   },
   "source": [
    "onde $\\vec{J}$ é a densidade de corrente, um vetor quantidade; $\\vec{E}$ é o campo elétrico e $\\sigma$ é a constante de proporcionalidade que indica a condutividade do material. A resistividade, parâmetro físico usado para caracterização das rochas é definido como o inverso da condutividade:\n"
   ]
  },
  {
   "cell_type": "markdown",
   "metadata": {
    "slideshow": {
     "slide_type": "subslide"
    }
   },
   "source": [
    "$$ Resistividade \\equiv \\rho = \\dfrac{1}{\\sigma} $$\n",
    "(Eq. 3)"
   ]
  },
  {
   "cell_type": "markdown",
   "metadata": {
    "slideshow": {
     "slide_type": "fragment"
    }
   },
   "source": [
    "Uma importante exercício imaginativo para compreensão do conceito de resistividade é considerar um gás diluído presente entre duas placas com área $A$. As partículas do gás, aquelas dotadas de carga, movimentar-se-ão sobre a influência de um campo eletromagnético $E$ com uma taxa de velocidade de deslocamento, ou velocidade de deriva $v_{drift}$. A velocidade de deriva pode ser determinada pois á partícula portadora de carga é acelarada sob a inflência de um campo eletrico até que esta venha a colidir com outra partícula que está em repouso e o processo se repita novamente. O tempo entre essas colisões, $\\tau$, é o parâmetro de interesse, desde que a velocidade de deriva $v_{drift}$ pode ser descrita como:"
   ]
  },
  {
   "cell_type": "markdown",
   "metadata": {
    "slideshow": {
     "slide_type": "subslide"
    }
   },
   "source": [
    "$$ v_{drift} = \\dfrac{F}{m} \\tau$$\n",
    "(Eq.4)"
   ]
  },
  {
   "cell_type": "markdown",
   "metadata": {
    "slideshow": {
     "slide_type": "fragment"
    }
   },
   "source": [
    "onde $\\dfrac{F}{m}$ representa a aceleração da partícula portadora de massa $m$ sujeita a uma força $F$. Neste exercício imaginativo a força $F$ é igual ao produto da carga pelo campo elétrico, $q E$."
   ]
  },
  {
   "cell_type": "markdown",
   "metadata": {
    "slideshow": {
     "slide_type": "subslide"
    }
   },
   "source": [
    "A forma geral da expressão para a a velocidade de deriva sob a acção de uma força externa $F$ é"
   ]
  },
  {
   "cell_type": "markdown",
   "metadata": {
    "slideshow": {
     "slide_type": "fragment"
    }
   },
   "source": [
    "$$ v_{drift} = \\mu F $$\n",
    "(Eq. 5)"
   ]
  },
  {
   "cell_type": "markdown",
   "metadata": {
    "slideshow": {
     "slide_type": "subslide"
    }
   },
   "source": [
    "Onde a constante de proporcionalidade $\\mu$ se refere ao grau de mobilidade da partícula no meio. A mobilidade de um gás diluído em um meio específico pode ser observado aplicando a Eq. 5 na Eq. 4."
   ]
  },
  {
   "cell_type": "markdown",
   "metadata": {
    "slideshow": {
     "slide_type": "fragment"
    }
   },
   "source": [
    "$$ \\mu = \\dfrac{\\tau} {m}$$ (Eq. 6)"
   ]
  },
  {
   "cell_type": "markdown",
   "metadata": {
    "slideshow": {
     "slide_type": "fragment"
    }
   },
   "source": [
    "Figura 1: [Representação de partículas carregadas de um gás diluído em movimento sob a influência de uma carga elétrica. O espaço de espessura $v_{drift} \\times \\Delta t$ é varrido por partículas carregadas, contibuindo para a corrente, em um tempo $\\Delta t$ ](Imagens/sp1.jpg)"
   ]
  },
  {
   "cell_type": "markdown",
   "metadata": {
    "slideshow": {
     "slide_type": "subslide"
    }
   },
   "source": [
    "Para ilustrar a relação entre resistividade e resistência é importante definir uma expressão que relacione uma corrente fluindo no sistema hipotético da figura 1, obedecendo a lei de Ohm. "
   ]
  },
  {
   "cell_type": "markdown",
   "metadata": {},
   "source": [
    "A região do espaço que contém as cargas pontuais que irão atingir as placas em um determinado período no tempo é chamada de $\\Delta t$. A espessura dessa região é $ v_{drift} \\times \\Delta t$. O número de carga coletado em um dado intervalo de tempo é $ \\Delta t$ "
   ]
  },
  {
   "cell_type": "code",
   "execution_count": null,
   "metadata": {},
   "outputs": [],
   "source": []
  }
 ],
 "metadata": {
  "celltoolbar": "Slideshow",
  "kernelspec": {
   "display_name": "Python 2",
   "language": "python",
   "name": "python2"
  },
  "language_info": {
   "codemirror_mode": {
    "name": "ipython",
    "version": 2
   },
   "file_extension": ".py",
   "mimetype": "text/x-python",
   "name": "python",
   "nbconvert_exporter": "python",
   "pygments_lexer": "ipython2",
   "version": "2.7.15"
  }
 },
 "nbformat": 4,
 "nbformat_minor": 2
}
